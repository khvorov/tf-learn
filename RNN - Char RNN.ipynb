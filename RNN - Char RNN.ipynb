{
 "cells": [
  {
   "cell_type": "code",
   "execution_count": 1,
   "metadata": {
    "collapsed": true
   },
   "outputs": [],
   "source": [
    "# imports\n",
    "\n",
    "import numpy as np\n",
    "import tensorflow as tf\n",
    "%matplotlib inline\n",
    "import matplotlib.pyplot as plt\n",
    "import time\n",
    "import os\n",
    "import urllib.request\n",
    "import ptb_iterator as reader"
   ]
  },
  {
   "cell_type": "code",
   "execution_count": 2,
   "metadata": {},
   "outputs": [
    {
     "name": "stdout",
     "output_type": "stream",
     "text": [
      "Data lenght: 1115394 bytes\n"
     ]
    }
   ],
   "source": [
    "# load and process data\n",
    "\n",
    "file_url = 'https://raw.githubusercontent.com/jcjohnson/torch-rnn/master/data/tiny-shakespeare.txt'\n",
    "file_name = 'tinyshakespeare.txt'\n",
    "\n",
    "if not os.path.exists(file_name):\n",
    "    urllib.request.urlretrieve(file_url, file_name)\n",
    "\n",
    "with open(file_name, 'r') as f:\n",
    "    raw_data = f.read()\n",
    "    print('Data lenght: {} bytes'.format(len(raw_data)))\n",
    "\n",
    "vocab = set(raw_data)\n",
    "vocab_size = len(vocab)\n",
    "idx_to_vocab = dict(enumerate(vocab))\n",
    "vocab_to_idx = dict(zip(idx_to_vocab.values(), idx_to_vocab.keys()))\n",
    "\n",
    "data = [vocab_to_idx[c] for c in raw_data]\n",
    "del raw_data"
   ]
  },
  {
   "cell_type": "code",
   "execution_count": 3,
   "metadata": {
    "collapsed": true
   },
   "outputs": [],
   "source": [
    "# utility functions\n",
    "\n",
    "def gen_epochs(n, num_steps, batch_size):\n",
    "    for i in range(n):\n",
    "        yield reader.ptb_iterator(data, batch_size, num_steps)\n",
    "\n",
    "def reset_graph():\n",
    "    if 'sess' in globals() and sess:\n",
    "        sess.close()\n",
    "    tf.reset_default_graph()\n",
    "\n",
    "def train_network(g, num_epochs, num_steps = 200, batch_size = 32, verbose = True, save = False):\n",
    "    tf.set_random_seed(2345)\n",
    "\n",
    "    with tf.Session() as sess:\n",
    "        # TODO: try to restore the graph\n",
    "        sess.run(tf.global_variables_initializer())\n",
    "        training_losses = []\n",
    "        \n",
    "        for idx, epoch in enumerate(gen_epochs(num_epochs, num_steps, batch_size)):\n",
    "            training_loss = 0\n",
    "            steps = 0\n",
    "            training_state = None\n",
    "            \n",
    "            for X, Y in epoch:\n",
    "                # workaround to avoid mis-shaped inputs\n",
    "                if X.shape[1] != num_steps or Y.shape[1] != num_steps:\n",
    "                    continue\n",
    "                steps += 1\n",
    "                feed_dict = {g['x']: X, g['y']: Y}\n",
    "                if training_state is not None:\n",
    "                    feed_dict[g['init_state']] = training_state\n",
    "                training_loss_, training_state, _ = \\\n",
    "                    sess.run([g['total_loss'], g['final_state'], g['train_step']], feed_dict)\n",
    "                training_loss += training_loss_\n",
    "\n",
    "            if verbose:\n",
    "                print('avg training loss for epoch {0}: {1:.4f}'.format(idx, training_loss/steps))\n",
    "            \n",
    "            training_losses.append(training_loss/steps)\n",
    "        \n",
    "        # I hate dynamic typing....\n",
    "        if isinstance(save, str):\n",
    "            g['saver'].save(sess, save)\n",
    "\n",
    "    return training_losses"
   ]
  },
  {
   "cell_type": "code",
   "execution_count": 4,
   "metadata": {
    "collapsed": true
   },
   "outputs": [],
   "source": [
    "def build_multilayer_lstm_graph_with_dynamic_rnn(\n",
    "        state_size=100, num_classes=vocab_size, batch_size=32,\n",
    "        num_steps=200, num_layers=3, learning_rate=1e-4):\n",
    "    reset_graph()\n",
    "    \n",
    "    x = tf.placeholder(tf.int32, [batch_size, num_steps], name='input_placeholder')\n",
    "    y = tf.placeholder(tf.int32, [batch_size, num_steps], name='labels_placeholder')\n",
    "\n",
    "    embeddings = tf.get_variable('embedding_matrix', [num_classes, state_size])\n",
    "    \n",
    "    # our inputs now is a tensor of dims batch_size x num_steps x state_size\n",
    "    rnn_inputs = tf.nn.embedding_lookup(embeddings, x)\n",
    "    \n",
    "    lstm_cells = [tf.contrib.rnn.LSTMCell(state_size, state_is_tuple=True) for _ in range(num_layers)]\n",
    "    cell = tf.contrib.rnn.MultiRNNCell(lstm_cells, state_is_tuple=True)\n",
    "    init_state = cell.zero_state(batch_size, tf.float32)\n",
    "    rnn_outputs, final_state = tf.nn.dynamic_rnn(cell, rnn_inputs, initial_state=init_state)\n",
    "    \n",
    "    with tf.variable_scope('softmax'):\n",
    "        W = tf.get_variable('W', [state_size, num_classes])\n",
    "        b = tf.get_variable('b', [num_classes], initializer=tf.constant_initializer(0.0))\n",
    "    \n",
    "    # reshape rnn outputs and y so we can get the logits in a single matmul\n",
    "    rnn_outputs = tf.reshape(rnn_outputs, [-1, state_size])\n",
    "    y_reshaped = tf.reshape(y, [-1])\n",
    "    \n",
    "    logits = tf.matmul(rnn_outputs, W) + b\n",
    "    \n",
    "    predictions = tf.nn.softmax(logits)\n",
    "    \n",
    "    total_loss = tf.reduce_mean(tf.nn.sparse_softmax_cross_entropy_with_logits(logits=logits, labels=y_reshaped))\n",
    "    train_step = tf.train.AdamOptimizer(learning_rate).minimize(total_loss)\n",
    "    \n",
    "    return dict(x = x, y = y, init_state = init_state, final_state = final_state,\n",
    "                total_loss = total_loss, train_step = train_step,\n",
    "                preds = predictions, saver = tf.train.Saver())"
   ]
  },
  {
   "cell_type": "code",
   "execution_count": 5,
   "metadata": {},
   "outputs": [
    {
     "name": "stdout",
     "output_type": "stream",
     "text": [
      "avg training loss for epoch 0: 3.4104\n",
      "avg training loss for epoch 1: 3.2817\n",
      "avg training loss for epoch 2: 3.0693\n",
      "avg training loss for epoch 3: 2.8437\n",
      "avg training loss for epoch 4: 2.7204\n",
      "avg training loss for epoch 5: 2.6481\n",
      "avg training loss for epoch 6: 2.5849\n",
      "avg training loss for epoch 7: 2.4803\n",
      "avg training loss for epoch 8: 2.4098\n",
      "avg training loss for epoch 9: 2.3612\n",
      "avg training loss for epoch 10: 2.3184\n",
      "avg training loss for epoch 11: 2.2840\n",
      "avg training loss for epoch 12: 2.2545\n",
      "avg training loss for epoch 13: 2.2274\n",
      "avg training loss for epoch 14: 2.2023\n",
      "avg training loss for epoch 15: 2.1785\n",
      "avg training loss for epoch 16: 2.1562\n",
      "avg training loss for epoch 17: 2.1354\n",
      "avg training loss for epoch 18: 2.1157\n",
      "avg training loss for epoch 19: 2.0972\n",
      "It took 908.5327310562134 seconds to build and train the RNN\n"
     ]
    },
    {
     "data": {
      "image/png": "[encoded data removed]",
      "text/plain": [
       "<matplotlib.figure.Figure at 0x7f016f285358>"
      ]
     },
     "metadata": {},
     "output_type": "display_data"
    }
   ],
   "source": [
    "t = time.time()\n",
    "g = build_multilayer_lstm_graph_with_dynamic_rnn(num_steps=80)\n",
    "losses = train_network(g, num_epochs=20, num_steps=80, save='checkpoints/LSTM_20e_80s')\n",
    "print('It took {} seconds to build and train the RNN'.format(time.time() - t))\n",
    "plt.plot(losses)\n",
    "plt.grid()"
   ]
  },
  {
   "cell_type": "markdown",
   "metadata": {},
   "source": [
    "## Generating text"
   ]
  },
  {
   "cell_type": "code",
   "execution_count": 13,
   "metadata": {
    "collapsed": true
   },
   "outputs": [],
   "source": [
    "def generate_characters(g, checkpoint, num_chars, prompt='A', pick_top_chars=None):\n",
    "    with tf.Session() as sess:\n",
    "        g['saver'].restore(sess, checkpoint)\n",
    "        \n",
    "        state = None\n",
    "        current_char = vocab_to_idx[prompt]\n",
    "        chars = [current_char]\n",
    "        \n",
    "        for i in range(num_chars):\n",
    "            if state is not None:\n",
    "                feed_dict = {g['x']: [[current_char]], g['init_state']: state}\n",
    "            else:\n",
    "                feed_dict = {g['x']: [[current_char]]}\n",
    "            \n",
    "            preds, state = sess.run([g['preds'], g['final_state']], feed_dict)\n",
    "            \n",
    "            p = np.squeeze(preds)\n",
    "\n",
    "            if pick_top_chars is not None:\n",
    "                p[np.argsort(p)[:-pick_top_chars]] = 0\n",
    "                p = p / np.sum(p)\n",
    "\n",
    "            current_char = np.random.choice(vocab_size, 1, p=p)[0]\n",
    "            \n",
    "            chars.append(current_char)\n",
    "\n",
    "    chars = map(lambda x: idx_to_vocab[x], chars)\n",
    "    return \"\".join(chars)"
   ]
  },
  {
   "cell_type": "code",
   "execution_count": 14,
   "metadata": {},
   "outputs": [
    {
     "name": "stdout",
     "output_type": "stream",
     "text": [
      "INFO:tensorflow:Restoring parameters from checkpoints/LSTM_20e_80s\n",
      "A\n",
      "diyng a dasger tit more.\n",
      "\n",
      "GATISS:\n",
      "A ant and at met afle the shealnss,\n",
      "Son sall the thandesed son or thor the hang\n",
      "And wite he met thar and me mins o the beet.\n",
      "\n",
      "PUCIO:\n",
      "Whit hor hens so peart so to the mither weer\n",
      "And the thonting sont the sreeles series\n",
      "I'd whoule, the theath ant myon sen the hert\n",
      "Tare so misher here and that afd sall.\n",
      "\n",
      "KUNE HIRD VODK::\n",
      "Ill misher ans thal the wite a muves to word\n",
      "And mich senters, will this tourder and thath tire\n",
      "Af a so thou shas have thou hearth met the the thous.\n",
      "\n",
      "GUCIO EORGERE:\n",
      "And shathe aftised he be will at to have.\n",
      "\n",
      "LORTENGE:\n",
      "A thee thil this, to hors hing at and warlied.\n",
      "\n",
      "POLTOO:\n",
      "Whiy the seor of af to have so pould. Wint ant the wend worle\n",
      "And thyer hard orfer there and thou houd tone,\n",
      "Of heard m\n"
     ]
    }
   ],
   "source": [
    "g = build_multilayer_lstm_graph_with_dynamic_rnn(num_steps=1, batch_size=1)\n",
    "print(generate_characters(g, 'checkpoints/LSTM_20e_80s', 750, prompt='A', pick_top_chars=5))"
   ]
  }
 ],
 "metadata": {
  "kernelspec": {
   "display_name": "Python 3",
   "language": "python",
   "name": "python3"
  },
  "language_info": {
   "codemirror_mode": {
    "name": "ipython",
    "version": 3
   },
   "file_extension": ".py",
   "mimetype": "text/x-python",
   "name": "python",
   "nbconvert_exporter": "python",
   "pygments_lexer": "ipython3",
   "version": "3.4.3"
  }
 },
 "nbformat": 4,
 "nbformat_minor": 2
}
