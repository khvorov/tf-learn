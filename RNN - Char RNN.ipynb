{
 "cells": [
  {
   "cell_type": "code",
   "execution_count": 1,
   "metadata": {
    "collapsed": true
   },
   "outputs": [],
   "source": [
    "# imports\n",
    "\n",
    "import numpy as np\n",
    "import tensorflow as tf\n",
    "%matplotlib inline\n",
    "import matplotlib.pyplot as plt\n",
    "import time\n",
    "import os\n",
    "import urllib.request\n",
    "import ptb_iterator as reader"
   ]
  },
  {
   "cell_type": "code",
   "execution_count": 2,
   "metadata": {},
   "outputs": [
    {
     "name": "stdout",
     "output_type": "stream",
     "text": [
      "Data lenght: 985129 bytes\n"
     ]
    }
   ],
   "source": [
    "# load and process data\n",
    "\n",
    "# file_url = 'https://raw.githubusercontent.com/jcjohnson/torch-rnn/master/data/tiny-shakespeare.txt'\n",
    "# file_name = 'tinyshakespeare.txt'\n",
    "\n",
    "# if not os.path.exists(file_name):\n",
    "#     urllib.request.urlretrieve(file_url, file_name)\n",
    "file_name = 'majakovski.txt'\n",
    "\n",
    "with open(file_name, 'r') as f:\n",
    "    raw_data = f.read()\n",
    "    print('Data lenght: {} bytes'.format(len(raw_data)))\n",
    "\n",
    "vocab = set(raw_data)\n",
    "vocab_size = len(vocab)\n",
    "idx_to_vocab = dict(enumerate(vocab))\n",
    "vocab_to_idx = dict(zip(idx_to_vocab.values(), idx_to_vocab.keys()))\n",
    "\n",
    "data = [vocab_to_idx[c] for c in raw_data]\n",
    "del raw_data"
   ]
  },
  {
   "cell_type": "code",
   "execution_count": 3,
   "metadata": {
    "collapsed": true
   },
   "outputs": [],
   "source": [
    "# utility functions\n",
    "\n",
    "def gen_epochs(n, num_steps, batch_size):\n",
    "    for i in range(n):\n",
    "        yield reader.ptb_iterator(data, batch_size, num_steps)\n",
    "\n",
    "def reset_graph():\n",
    "    if 'sess' in globals() and sess:\n",
    "        sess.close()\n",
    "    tf.reset_default_graph()\n",
    "\n",
    "def restore_or_initialize_session(session, saver, checkpoint):\n",
    "    if isinstance(checkpoint, str):\n",
    "        try:\n",
    "            saver.restore(session, checkpoint)\n",
    "            return\n",
    "        except:\n",
    "            print('Failed to restore from checkpoint: {}, initializing variables instead'.format(checkpoint))\n",
    "    \n",
    "    session.run(tf.global_variables_initializer())\n",
    "\n",
    "def train_network(g, num_epochs, num_steps = 200, batch_size = 32, verbose = True, save = False):\n",
    "    tf.set_random_seed(2345)\n",
    "\n",
    "    with tf.Session() as sess:\n",
    "        # try to restore the graph\n",
    "        restore_or_initialize_session(sess, g['saver'], save)\n",
    "        training_losses = []\n",
    "        \n",
    "        for idx, epoch in enumerate(gen_epochs(num_epochs, num_steps, batch_size)):\n",
    "            training_loss = 0\n",
    "            steps = 0\n",
    "            training_state = None\n",
    "            \n",
    "            for X, Y in epoch:\n",
    "                # workaround to avoid mis-shaped inputs\n",
    "                if X.shape[1] != num_steps or Y.shape[1] != num_steps:\n",
    "                    continue\n",
    "                steps += 1\n",
    "                feed_dict = {g['x']: X, g['y']: Y}\n",
    "                if training_state is not None:\n",
    "                    feed_dict[g['init_state']] = training_state\n",
    "                training_loss_, training_state, _ = \\\n",
    "                    sess.run([g['total_loss'], g['final_state'], g['train_step']], feed_dict)\n",
    "                training_loss += training_loss_\n",
    "\n",
    "            if verbose:\n",
    "                print('avg training loss for epoch {0}: {1:.4f}'.format(idx, training_loss/steps))\n",
    "            \n",
    "            training_losses.append(training_loss/steps)\n",
    "        \n",
    "        # I hate dynamic typing....\n",
    "        if isinstance(save, str):\n",
    "            g['saver'].save(sess, save)\n",
    "\n",
    "    return training_losses"
   ]
  },
  {
   "cell_type": "code",
   "execution_count": 4,
   "metadata": {
    "collapsed": true
   },
   "outputs": [],
   "source": [
    "# cell factory\n",
    "def create_rnn_cells(cell_type, state_size, num_layers):\n",
    "    state_is_tuple = False\n",
    "    \n",
    "    if cell_type == 'GRU':\n",
    "        cell_creator = lambda: tf.contrib.rnn.GRUCell(state_size)\n",
    "    elif cell_type == 'LSTM':\n",
    "        cell_creator = lambda: tf.contrib.rnn.LSTMCell(state_size, state_is_tuple=True)\n",
    "        state_is_tuple = True\n",
    "    else:\n",
    "        cell_creator = lambda: tf.contrib.rnn.BasicRNNCell(cell_size)\n",
    "        \n",
    "    cells = [cell_creator() for _ in range(num_layers)]\n",
    "    return (cells, state_is_tuple)"
   ]
  },
  {
   "cell_type": "code",
   "execution_count": 5,
   "metadata": {
    "collapsed": true
   },
   "outputs": [],
   "source": [
    "def build_multilayer_graph(cell_type=None, state_size=100, num_classes=vocab_size, batch_size=32,\n",
    "        num_steps=200, num_layers=3, learning_rate=1e-4):\n",
    "    reset_graph()\n",
    "    \n",
    "    x = tf.placeholder(tf.int32, [batch_size, num_steps], name='input_placeholder')\n",
    "    y = tf.placeholder(tf.int32, [batch_size, num_steps], name='labels_placeholder')\n",
    "\n",
    "    embeddings = tf.get_variable('embedding_matrix', [num_classes, state_size])\n",
    "    \n",
    "    # our inputs now is a tensor of dims batch_size x num_steps x state_size\n",
    "    rnn_inputs = tf.nn.embedding_lookup(embeddings, x)\n",
    "    \n",
    "    cells, state_is_tuple = create_rnn_cells(cell_type=cell_type, state_size=state_size, num_layers=num_layers)\n",
    "    cell = tf.contrib.rnn.MultiRNNCell(cells, state_is_tuple=state_is_tuple)\n",
    "\n",
    "    init_state = cell.zero_state(batch_size, tf.float32)\n",
    "    rnn_outputs, final_state = tf.nn.dynamic_rnn(cell, rnn_inputs, initial_state=init_state)\n",
    "    \n",
    "    with tf.variable_scope('softmax'):\n",
    "        W = tf.get_variable('W', [state_size, num_classes])\n",
    "        b = tf.get_variable('b', [num_classes], initializer=tf.constant_initializer(0.0))\n",
    "    \n",
    "    # reshape rnn outputs and y so we can get the logits in a single matmul\n",
    "    rnn_outputs = tf.reshape(rnn_outputs, [-1, state_size])\n",
    "    y_reshaped = tf.reshape(y, [-1])\n",
    "    \n",
    "    logits = tf.matmul(rnn_outputs, W) + b\n",
    "    \n",
    "    predictions = tf.nn.softmax(logits)\n",
    "    \n",
    "    total_loss = tf.reduce_mean(tf.nn.sparse_softmax_cross_entropy_with_logits(logits=logits, labels=y_reshaped))\n",
    "    train_step = tf.train.AdamOptimizer(learning_rate).minimize(total_loss)\n",
    "    \n",
    "    return dict(x = x, y = y, init_state = init_state, final_state = final_state,\n",
    "                total_loss = total_loss, train_step = train_step,\n",
    "                preds = predictions, saver = tf.train.Saver())"
   ]
  },
  {
   "cell_type": "code",
   "execution_count": 6,
   "metadata": {},
   "outputs": [
    {
     "name": "stdout",
     "output_type": "stream",
     "text": [
      "It took 6.103992223739624 seconds to build the graph\n"
     ]
    }
   ],
   "source": [
    "# network parameters\n",
    "cell_type = 'GRU'\n",
    "num_steps = 60\n",
    "save_file = 'checkpoints/{0}_{1}s'.format(cell_type, num_steps)\n",
    "\n",
    "# build the graph\n",
    "t = time.time()\n",
    "g = build_multilayer_graph(cell_type=cell_type, num_steps=num_steps)\n",
    "print('It took {} seconds to build the graph'.format(time.time() - t))"
   ]
  },
  {
   "cell_type": "code",
   "execution_count": 7,
   "metadata": {},
   "outputs": [
    {
     "name": "stdout",
     "output_type": "stream",
     "text": [
      "INFO:tensorflow:Restoring parameters from checkpoints/GRU_30s\n",
      "avg training loss for epoch 0: 3.1871\n",
      "avg training loss for epoch 1: 2.7152\n",
      "avg training loss for epoch 2: 2.5579\n",
      "It took 446.5013871192932 seconds to train the RNN\n"
     ]
    }
   ],
   "source": [
    "# train the network\n",
    "t = time.time()\n",
    "losses = train_network(g, num_epochs=3, num_steps=num_steps, save=save_file)\n",
    "print('It took {} seconds to train the RNN'.format(time.time() - t))"
   ]
  },
  {
   "cell_type": "code",
   "execution_count": 8,
   "metadata": {},
   "outputs": [
    {
     "data": {
      "image/png": "[encoded data removed]",
      "text/plain": [
       "<matplotlib.figure.Figure at 0x7fc729f96f60>"
      ]
     },
     "metadata": {},
     "output_type": "display_data"
    }
   ],
   "source": [
    "plt.plot(losses)\n",
    "plt.grid()"
   ]
  },
  {
   "cell_type": "markdown",
   "metadata": {},
   "source": [
    "## Generating text"
   ]
  },
  {
   "cell_type": "code",
   "execution_count": 9,
   "metadata": {
    "collapsed": true
   },
   "outputs": [],
   "source": [
    "def generate_characters(g, checkpoint, num_chars, prompt='A', pick_top_chars=None):\n",
    "    with tf.Session() as sess:\n",
    "        g['saver'].restore(sess, checkpoint)\n",
    "        \n",
    "        state = None\n",
    "        current_char = vocab_to_idx[prompt]\n",
    "        chars = [current_char]\n",
    "        \n",
    "        for i in range(num_chars):\n",
    "            feed_dict = {g['x']: [[current_char]]}\n",
    "\n",
    "            if state is not None:\n",
    "                feed_dict[g['init_state']] = state\n",
    "            \n",
    "            preds, state = sess.run([g['preds'], g['final_state']], feed_dict)\n",
    "            \n",
    "            p = np.squeeze(preds)\n",
    "\n",
    "            if pick_top_chars is not None:\n",
    "                p[np.argsort(p)[:-pick_top_chars]] = 0\n",
    "                p = p / np.sum(p)\n",
    "\n",
    "            current_char = np.random.choice(vocab_size, 1, p=p)[0]\n",
    "            \n",
    "            chars.append(current_char)\n",
    "\n",
    "    chars = map(lambda x: idx_to_vocab[x], chars)\n",
    "    return \"\".join(chars)"
   ]
  },
  {
   "cell_type": "code",
   "execution_count": 12,
   "metadata": {},
   "outputs": [
    {
     "name": "stdout",
     "output_type": "stream",
     "text": [
      "INFO:tensorflow:Restoring parameters from checkpoints/GRU_30s\n",
      "Aникаль веньк в белит пуло в вала не подотали.\n",
      "\n",
      "В станнойстаник.\n",
      "\n",
      "\n",
      "\n",
      "\n",
      "\n",
      "2.\n",
      "\n",
      "       о не несенати вельном им воста поринаека полет вырев сонне киску и педоровитонал итом поратотот каренит нилав правовиней половонико савить полилен стоверитьнома нерька в белева\n"
     ]
    }
   ],
   "source": [
    "g = build_multilayer_graph(cell_type=cell_type, num_steps=1, batch_size=1)\n",
    "print(generate_characters(g, save_file, 256, prompt='A', pick_top_chars=5))"
   ]
  }
 ],
 "metadata": {
  "kernelspec": {
   "display_name": "Python 3",
   "language": "python",
   "name": "python3"
  },
  "language_info": {
   "codemirror_mode": {
    "name": "ipython",
    "version": 3
   },
   "file_extension": ".py",
   "mimetype": "text/x-python",
   "name": "python",
   "nbconvert_exporter": "python",
   "pygments_lexer": "ipython3",
   "version": "3.6.1"
  }
 },
 "nbformat": 4,
 "nbformat_minor": 2
}
